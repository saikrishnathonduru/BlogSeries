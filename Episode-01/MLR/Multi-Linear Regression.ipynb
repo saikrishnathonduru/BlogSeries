{
 "cells": [
  {
   "cell_type": "markdown",
   "metadata": {},
   "source": [
    "# Multi Linear Regression\n",
    "### Estimating the rent in Paris using multiple linear regression with dummies variables.\n",
    "In this tutorial, we will carry out a case study to estimate the rent by explaining the most influential boroughs of Paris the French capital. The used method is the Multiple Linear Regression with variable dummies."
   ]
  },
  {
   "cell_type": "code",
   "execution_count": 22,
   "metadata": {},
   "outputs": [
    {
     "data": {
      "text/html": [
       "<div>\n",
       "<style scoped>\n",
       "    .dataframe tbody tr th:only-of-type {\n",
       "        vertical-align: middle;\n",
       "    }\n",
       "\n",
       "    .dataframe tbody tr th {\n",
       "        vertical-align: top;\n",
       "    }\n",
       "\n",
       "    .dataframe thead th {\n",
       "        text-align: right;\n",
       "    }\n",
       "</style>\n",
       "<table border=\"1\" class=\"dataframe\">\n",
       "  <thead>\n",
       "    <tr style=\"text-align: right;\">\n",
       "      <th></th>\n",
       "      <th>price</th>\n",
       "      <th>surface</th>\n",
       "      <th>arrondissement</th>\n",
       "    </tr>\n",
       "  </thead>\n",
       "  <tbody>\n",
       "    <tr>\n",
       "      <th>0</th>\n",
       "      <td>1820</td>\n",
       "      <td>46.1</td>\n",
       "      <td>1.0</td>\n",
       "    </tr>\n",
       "    <tr>\n",
       "      <th>1</th>\n",
       "      <td>1750</td>\n",
       "      <td>41.0</td>\n",
       "      <td>1.0</td>\n",
       "    </tr>\n",
       "    <tr>\n",
       "      <th>2</th>\n",
       "      <td>1900</td>\n",
       "      <td>55.0</td>\n",
       "      <td>1.0</td>\n",
       "    </tr>\n",
       "    <tr>\n",
       "      <th>3</th>\n",
       "      <td>1950</td>\n",
       "      <td>46.0</td>\n",
       "      <td>1.0</td>\n",
       "    </tr>\n",
       "    <tr>\n",
       "      <th>4</th>\n",
       "      <td>1950</td>\n",
       "      <td>49.0</td>\n",
       "      <td>1.0</td>\n",
       "    </tr>\n",
       "  </tbody>\n",
       "</table>\n",
       "</div>"
      ],
      "text/plain": [
       "   price  surface  arrondissement\n",
       "0   1820     46.1             1.0\n",
       "1   1750     41.0             1.0\n",
       "2   1900     55.0             1.0\n",
       "3   1950     46.0             1.0\n",
       "4   1950     49.0             1.0"
      ]
     },
     "execution_count": 22,
     "metadata": {},
     "output_type": "execute_result"
    }
   ],
   "source": [
    "import numpy as np\n",
    "import pandas as pd\n",
    "\n",
    "# Importing the datasets\n",
    "\n",
    "dataset = pd.read_csv('house_data.csv')\n",
    "dataset.head()\n"
   ]
  },
  {
   "cell_type": "code",
   "execution_count": 23,
   "metadata": {},
   "outputs": [],
   "source": [
    "# Cleaning all observations with nan values\n",
    "dataset = dataset.dropna()"
   ]
  },
  {
   "cell_type": "code",
   "execution_count": 24,
   "metadata": {},
   "outputs": [
    {
     "data": {
      "text/html": [
       "<div>\n",
       "<style scoped>\n",
       "    .dataframe tbody tr th:only-of-type {\n",
       "        vertical-align: middle;\n",
       "    }\n",
       "\n",
       "    .dataframe tbody tr th {\n",
       "        vertical-align: top;\n",
       "    }\n",
       "\n",
       "    .dataframe thead th {\n",
       "        text-align: right;\n",
       "    }\n",
       "</style>\n",
       "<table border=\"1\" class=\"dataframe\">\n",
       "  <thead>\n",
       "    <tr style=\"text-align: right;\">\n",
       "      <th></th>\n",
       "      <th>arrondissement_1.0</th>\n",
       "      <th>arrondissement_10.0</th>\n",
       "      <th>arrondissement_2.0</th>\n",
       "      <th>arrondissement_3.0</th>\n",
       "      <th>arrondissement_4.0</th>\n",
       "      <th>price</th>\n",
       "      <th>surface</th>\n",
       "    </tr>\n",
       "  </thead>\n",
       "  <tbody>\n",
       "    <tr>\n",
       "      <th>0</th>\n",
       "      <td>1</td>\n",
       "      <td>0</td>\n",
       "      <td>0</td>\n",
       "      <td>0</td>\n",
       "      <td>0</td>\n",
       "      <td>1820</td>\n",
       "      <td>46.1</td>\n",
       "    </tr>\n",
       "    <tr>\n",
       "      <th>1</th>\n",
       "      <td>1</td>\n",
       "      <td>0</td>\n",
       "      <td>0</td>\n",
       "      <td>0</td>\n",
       "      <td>0</td>\n",
       "      <td>1750</td>\n",
       "      <td>41.0</td>\n",
       "    </tr>\n",
       "    <tr>\n",
       "      <th>2</th>\n",
       "      <td>1</td>\n",
       "      <td>0</td>\n",
       "      <td>0</td>\n",
       "      <td>0</td>\n",
       "      <td>0</td>\n",
       "      <td>1900</td>\n",
       "      <td>55.0</td>\n",
       "    </tr>\n",
       "    <tr>\n",
       "      <th>3</th>\n",
       "      <td>1</td>\n",
       "      <td>0</td>\n",
       "      <td>0</td>\n",
       "      <td>0</td>\n",
       "      <td>0</td>\n",
       "      <td>1950</td>\n",
       "      <td>46.0</td>\n",
       "    </tr>\n",
       "    <tr>\n",
       "      <th>4</th>\n",
       "      <td>1</td>\n",
       "      <td>0</td>\n",
       "      <td>0</td>\n",
       "      <td>0</td>\n",
       "      <td>0</td>\n",
       "      <td>1950</td>\n",
       "      <td>49.0</td>\n",
       "    </tr>\n",
       "  </tbody>\n",
       "</table>\n",
       "</div>"
      ],
      "text/plain": [
       "   arrondissement_1.0  arrondissement_10.0  arrondissement_2.0  \\\n",
       "0                   1                    0                   0   \n",
       "1                   1                    0                   0   \n",
       "2                   1                    0                   0   \n",
       "3                   1                    0                   0   \n",
       "4                   1                    0                   0   \n",
       "\n",
       "   arrondissement_3.0  arrondissement_4.0  price  surface  \n",
       "0                   0                   0   1820     46.1  \n",
       "1                   0                   0   1750     41.0  \n",
       "2                   0                   0   1900     55.0  \n",
       "3                   0                   0   1950     46.0  \n",
       "4                   0                   0   1950     49.0  "
      ]
     },
     "execution_count": 24,
     "metadata": {},
     "output_type": "execute_result"
    }
   ],
   "source": [
    "dummies = pd.DataFrame({'arrondissement': dataset.arrondissement.astype(str)})\n",
    "dummies = pd.get_dummies(dummies)\n",
    "dataset = pd.concat([dummies, dataset], axis=1)\n",
    "del dataset['arrondissement']\n",
    "dataset.head()"
   ]
  },
  {
   "cell_type": "markdown",
   "metadata": {},
   "source": [
    "### Training the model\n",
    "Construction of X data set containing the prediction variables as well as the vector y containing the data to be predicted."
   ]
  },
  {
   "cell_type": "code",
   "execution_count": 25,
   "metadata": {},
   "outputs": [],
   "source": [
    "X = dataset.drop('price', axis=1)\n",
    "y = dataset['price']"
   ]
  },
  {
   "cell_type": "code",
   "execution_count": 26,
   "metadata": {},
   "outputs": [],
   "source": [
    "# Spliting of X and y into two parts each, which will be used for training and testing the model. \n",
    "# The part reserved for training contains 80% of the data.\n",
    "from sklearn.model_selection import train_test_split\n",
    "X_train, X_test, y_train, y_test = train_test_split(X, y, test_size = 0.2, random_state = 0)"
   ]
  },
  {
   "cell_type": "code",
   "execution_count": 27,
   "metadata": {},
   "outputs": [
    {
     "data": {
      "text/plain": [
       "LinearRegression(copy_X=True, fit_intercept=True, n_jobs=None, normalize=False)"
      ]
     },
     "execution_count": 27,
     "metadata": {},
     "output_type": "execute_result"
    }
   ],
   "source": [
    "# Fitting the multiple linear regression model using the training dataset.\n",
    "from sklearn.linear_model import LinearRegression\n",
    "regressor = LinearRegression()\n",
    "regressor.fit(X_train, y_train)"
   ]
  },
  {
   "cell_type": "code",
   "execution_count": 28,
   "metadata": {},
   "outputs": [],
   "source": [
    "# Predict the results of the test dataset.\n",
    "y_pred = regressor.predict(X_test)"
   ]
  },
  {
   "cell_type": "code",
   "execution_count": 29,
   "metadata": {},
   "outputs": [
    {
     "name": "stdout",
     "output_type": "stream",
     "text": [
      "Intercept: \n",
      " 72.11912099989468\n",
      "Coefficients: \n",
      " [ 193.72618272 -317.07253919   45.99391318  -50.86351754  128.21596083\n",
      "   32.84421801]\n"
     ]
    }
   ],
   "source": [
    "# Display of the model parameters such as the constant and the coefficients of the variables.\n",
    "print('Intercept: \\n', regressor.intercept_)\n",
    "print('Coefficients: \\n', regressor.coef_)"
   ]
  },
  {
   "cell_type": "markdown",
   "metadata": {},
   "source": [
    "#### Calculation of the theta parameters\n",
    "We will check if the vector theta gives the same results or not. We must not forget to add a composite column of 1 in X_train that I named X_train_1."
   ]
  },
  {
   "cell_type": "code",
   "execution_count": 30,
   "metadata": {},
   "outputs": [
    {
     "name": "stdout",
     "output_type": "stream",
     "text": [
      "[-1427.32316878   775.34351357  1300.96226403  1965.56352984\n",
      "   163.42487133  1050.06161534    32.84421801]\n"
     ]
    }
   ],
   "source": [
    "X_train_1 = np.append(arr = np.ones((X_train.shape[0], 1)).astype(int), values = X_train, axis = 1)\n",
    "\n",
    "beta = np.linalg.inv(X_train_1.T.dot(X_train_1)).dot(X_train_1.T).dot(y_train)\n",
    "print(beta)"
   ]
  },
  {
   "cell_type": "markdown",
   "metadata": {},
   "source": [
    "The results are different from those given above. The reason is that among dummies variables there are some that are collinear. You should delete a given variable. However, the deletion will not be randomly. There is a selection method variables that have no interest in the model and that it is better to delete them one by one. This method is called \"Backward Elimination\"."
   ]
  },
  {
   "cell_type": "code",
   "execution_count": 32,
   "metadata": {},
   "outputs": [
    {
     "data": {
      "text/html": [
       "<table class=\"simpletable\">\n",
       "<caption>OLS Regression Results</caption>\n",
       "<tr>\n",
       "  <th>Dep. Variable:</th>          <td>price</td>      <th>  R-squared:         </th> <td>   0.860</td> \n",
       "</tr>\n",
       "<tr>\n",
       "  <th>Model:</th>                   <td>OLS</td>       <th>  Adj. R-squared:    </th> <td>   0.859</td> \n",
       "</tr>\n",
       "<tr>\n",
       "  <th>Method:</th>             <td>Least Squares</td>  <th>  F-statistic:       </th> <td>   800.5</td> \n",
       "</tr>\n",
       "<tr>\n",
       "  <th>Date:</th>             <td>Sat, 03 Jul 2021</td> <th>  Prob (F-statistic):</th> <td>3.24e-275</td>\n",
       "</tr>\n",
       "<tr>\n",
       "  <th>Time:</th>                 <td>06:54:19</td>     <th>  Log-Likelihood:    </th> <td> -5090.1</td> \n",
       "</tr>\n",
       "<tr>\n",
       "  <th>No. Observations:</th>      <td>   657</td>      <th>  AIC:               </th> <td>1.019e+04</td>\n",
       "</tr>\n",
       "<tr>\n",
       "  <th>Df Residuals:</th>          <td>   651</td>      <th>  BIC:               </th> <td>1.022e+04</td>\n",
       "</tr>\n",
       "<tr>\n",
       "  <th>Df Model:</th>              <td>     5</td>      <th>                     </th>     <td> </td>    \n",
       "</tr>\n",
       "<tr>\n",
       "  <th>Covariance Type:</th>      <td>nonrobust</td>    <th>                     </th>     <td> </td>    \n",
       "</tr>\n",
       "</table>\n",
       "<table class=\"simpletable\">\n",
       "<tr>\n",
       "           <td></td>              <th>coef</th>     <th>std err</th>      <th>t</th>      <th>P>|t|</th>  <th>[0.025</th>    <th>0.975]</th>  \n",
       "</tr>\n",
       "<tr>\n",
       "  <th>const</th>               <td>   32.7814</td> <td>   17.526</td> <td>    1.870</td> <td> 0.062</td> <td>   -1.633</td> <td>   67.196</td>\n",
       "</tr>\n",
       "<tr>\n",
       "  <th>const</th>               <td>   32.7814</td> <td>   17.526</td> <td>    1.870</td> <td> 0.062</td> <td>   -1.633</td> <td>   67.196</td>\n",
       "</tr>\n",
       "<tr>\n",
       "  <th>arrondissement_1.0</th>  <td>  200.2825</td> <td>   45.333</td> <td>    4.418</td> <td> 0.000</td> <td>  111.267</td> <td>  289.298</td>\n",
       "</tr>\n",
       "<tr>\n",
       "  <th>arrondissement_2.0</th>  <td>   52.5502</td> <td>   49.063</td> <td>    1.071</td> <td> 0.285</td> <td>  -43.790</td> <td>  148.891</td>\n",
       "</tr>\n",
       "<tr>\n",
       "  <th>arrondissement_3.0</th>  <td>  -44.3072</td> <td>   42.768</td> <td>   -1.036</td> <td> 0.301</td> <td> -128.287</td> <td>   39.672</td>\n",
       "</tr>\n",
       "<tr>\n",
       "  <th>arrondissement_4.0</th>  <td>  134.7722</td> <td>   42.768</td> <td>    3.151</td> <td> 0.002</td> <td>   50.791</td> <td>  218.753</td>\n",
       "</tr>\n",
       "<tr>\n",
       "  <th>arrondissement_10.0</th> <td> -310.5163</td> <td>   43.359</td> <td>   -7.162</td> <td> 0.000</td> <td> -395.657</td> <td> -225.376</td>\n",
       "</tr>\n",
       "<tr>\n",
       "  <th>surface</th>             <td>   32.8442</td> <td>    0.549</td> <td>   59.868</td> <td> 0.000</td> <td>   31.767</td> <td>   33.921</td>\n",
       "</tr>\n",
       "</table>\n",
       "<table class=\"simpletable\">\n",
       "<tr>\n",
       "  <th>Omnibus:</th>       <td>342.332</td> <th>  Durbin-Watson:     </th> <td>   1.924</td>\n",
       "</tr>\n",
       "<tr>\n",
       "  <th>Prob(Omnibus):</th> <td> 0.000</td>  <th>  Jarque-Bera (JB):  </th> <td>5037.096</td>\n",
       "</tr>\n",
       "<tr>\n",
       "  <th>Skew:</th>          <td> 1.963</td>  <th>  Prob(JB):          </th> <td>    0.00</td>\n",
       "</tr>\n",
       "<tr>\n",
       "  <th>Kurtosis:</th>      <td>15.984</td>  <th>  Cond. No.          </th> <td>1.32e+18</td>\n",
       "</tr>\n",
       "</table><br/><br/>Warnings:<br/>[1] Standard Errors assume that the covariance matrix of the errors is correctly specified.<br/>[2] The smallest eigenvalue is 1.9e-30. This might indicate that there are<br/>strong multicollinearity problems or that the design matrix is singular."
      ],
      "text/plain": [
       "<class 'statsmodels.iolib.summary.Summary'>\n",
       "\"\"\"\n",
       "                            OLS Regression Results                            \n",
       "==============================================================================\n",
       "Dep. Variable:                  price   R-squared:                       0.860\n",
       "Model:                            OLS   Adj. R-squared:                  0.859\n",
       "Method:                 Least Squares   F-statistic:                     800.5\n",
       "Date:                Sat, 03 Jul 2021   Prob (F-statistic):          3.24e-275\n",
       "Time:                        06:54:19   Log-Likelihood:                -5090.1\n",
       "No. Observations:                 657   AIC:                         1.019e+04\n",
       "Df Residuals:                     651   BIC:                         1.022e+04\n",
       "Df Model:                           5                                         \n",
       "Covariance Type:            nonrobust                                         \n",
       "=======================================================================================\n",
       "                          coef    std err          t      P>|t|      [0.025      0.975]\n",
       "---------------------------------------------------------------------------------------\n",
       "const                  32.7814     17.526      1.870      0.062      -1.633      67.196\n",
       "const                  32.7814     17.526      1.870      0.062      -1.633      67.196\n",
       "arrondissement_1.0    200.2825     45.333      4.418      0.000     111.267     289.298\n",
       "arrondissement_2.0     52.5502     49.063      1.071      0.285     -43.790     148.891\n",
       "arrondissement_3.0    -44.3072     42.768     -1.036      0.301    -128.287      39.672\n",
       "arrondissement_4.0    134.7722     42.768      3.151      0.002      50.791     218.753\n",
       "arrondissement_10.0  -310.5163     43.359     -7.162      0.000    -395.657    -225.376\n",
       "surface                32.8442      0.549     59.868      0.000      31.767      33.921\n",
       "==============================================================================\n",
       "Omnibus:                      342.332   Durbin-Watson:                   1.924\n",
       "Prob(Omnibus):                  0.000   Jarque-Bera (JB):             5037.096\n",
       "Skew:                           1.963   Prob(JB):                         0.00\n",
       "Kurtosis:                      15.984   Cond. No.                     1.32e+18\n",
       "==============================================================================\n",
       "\n",
       "Warnings:\n",
       "[1] Standard Errors assume that the covariance matrix of the errors is correctly specified.\n",
       "[2] The smallest eigenvalue is 1.9e-30. This might indicate that there are\n",
       "strong multicollinearity problems or that the design matrix is singular.\n",
       "\"\"\""
      ]
     },
     "execution_count": 32,
     "metadata": {},
     "output_type": "execute_result"
    }
   ],
   "source": [
    "# Keeping all the variables in order to select which one to be eliminated\n",
    "import statsmodels.api as sm\n",
    "\n",
    "X_train = pd.concat([pd.DataFrame(np.ones((X_train.shape[0], 1)).astype(int),\n",
    "                                  index=X_train.index), X_train], axis=1)\n",
    "X_train.rename(columns={0: 'const'}, inplace=True)\n",
    "\n",
    "X_opt = X_train[['const', 'arrondissement_1.0', 'arrondissement_2.0','arrondissement_3.0', \n",
    "                 'arrondissement_4.0', 'arrondissement_10.0', 'surface']]\n",
    "regressor_OLS = sm.OLS(endog = y_train, exog = X_opt).fit()\n",
    "regressor_OLS.summary()"
   ]
  },
  {
   "cell_type": "markdown",
   "metadata": {},
   "source": [
    "By investigating the \"coef\" column, one would normally find the same results as with the established \"regressor\" model. However, the cause of this difference is as it was explained it is the collinearity between some dummies variables. We will see after an elimination of a variable that the results will be identical with \"regressor\", \"theta\" and \"OLS Regression\".\n",
    "\n",
    "In the middle table, there is a column that displays the p-values of each coefficient. The first variable to be deleted is the one with the largest p-value and which exceeds 5% which is \"arrondissement_3.0\"."
   ]
  },
  {
   "cell_type": "code",
   "execution_count": 34,
   "metadata": {},
   "outputs": [
    {
     "name": "stdout",
     "output_type": "stream",
     "text": [
      "Intercept: \n",
      " 21.25560346291195\n",
      "Coefficients: \n",
      " [ 244.58970026   96.85743072  179.07947836 -266.20902165   32.84421801]\n"
     ]
    }
   ],
   "source": [
    "# Elimination of \"arrondissement_3.0\"\n",
    "# Results with Regressor\n",
    "X_opt = X_train[['arrondissement_1.0', 'arrondissement_2.0', \n",
    "                 'arrondissement_4.0', 'arrondissement_10.0', 'surface']]\n",
    "\n",
    "regressor = LinearRegression()\n",
    "regressor.fit(X_opt, y_train)\n",
    "\n",
    "print('Intercept: \\n', regressor.intercept_)\n",
    "print('Coefficients: \\n', regressor.coef_)"
   ]
  },
  {
   "cell_type": "code",
   "execution_count": 38,
   "metadata": {},
   "outputs": [
    {
     "data": {
      "text/html": [
       "<table class=\"simpletable\">\n",
       "<caption>OLS Regression Results</caption>\n",
       "<tr>\n",
       "  <th>Dep. Variable:</th>          <td>price</td>      <th>  R-squared:         </th> <td>   0.860</td> \n",
       "</tr>\n",
       "<tr>\n",
       "  <th>Model:</th>                   <td>OLS</td>       <th>  Adj. R-squared:    </th> <td>   0.859</td> \n",
       "</tr>\n",
       "<tr>\n",
       "  <th>Method:</th>             <td>Least Squares</td>  <th>  F-statistic:       </th> <td>   800.5</td> \n",
       "</tr>\n",
       "<tr>\n",
       "  <th>Date:</th>             <td>Sat, 03 Jul 2021</td> <th>  Prob (F-statistic):</th> <td>3.24e-275</td>\n",
       "</tr>\n",
       "<tr>\n",
       "  <th>Time:</th>                 <td>07:02:00</td>     <th>  Log-Likelihood:    </th> <td> -5090.1</td> \n",
       "</tr>\n",
       "<tr>\n",
       "  <th>No. Observations:</th>      <td>   657</td>      <th>  AIC:               </th> <td>1.019e+04</td>\n",
       "</tr>\n",
       "<tr>\n",
       "  <th>Df Residuals:</th>          <td>   651</td>      <th>  BIC:               </th> <td>1.022e+04</td>\n",
       "</tr>\n",
       "<tr>\n",
       "  <th>Df Model:</th>              <td>     5</td>      <th>                     </th>     <td> </td>    \n",
       "</tr>\n",
       "<tr>\n",
       "  <th>Covariance Type:</th>      <td>nonrobust</td>    <th>                     </th>     <td> </td>    \n",
       "</tr>\n",
       "</table>\n",
       "<table class=\"simpletable\">\n",
       "<tr>\n",
       "           <td></td>              <th>coef</th>     <th>std err</th>      <th>t</th>      <th>P>|t|</th>  <th>[0.025</th>    <th>0.975]</th>  \n",
       "</tr>\n",
       "<tr>\n",
       "  <th>const</th>               <td>   10.6278</td> <td>   28.144</td> <td>    0.378</td> <td> 0.706</td> <td>  -44.635</td> <td>   65.891</td>\n",
       "</tr>\n",
       "<tr>\n",
       "  <th>const</th>               <td>   10.6278</td> <td>   28.144</td> <td>    0.378</td> <td> 0.706</td> <td>  -44.635</td> <td>   65.891</td>\n",
       "</tr>\n",
       "<tr>\n",
       "  <th>arrondissement_1.0</th>  <td>  244.5897</td> <td>   68.606</td> <td>    3.565</td> <td> 0.000</td> <td>  109.875</td> <td>  379.305</td>\n",
       "</tr>\n",
       "<tr>\n",
       "  <th>arrondissement_2.0</th>  <td>   96.8574</td> <td>   73.392</td> <td>    1.320</td> <td> 0.187</td> <td>  -47.257</td> <td>  240.972</td>\n",
       "</tr>\n",
       "<tr>\n",
       "  <th>arrondissement_4.0</th>  <td>  179.0795</td> <td>   66.636</td> <td>    2.687</td> <td> 0.007</td> <td>   48.232</td> <td>  309.927</td>\n",
       "</tr>\n",
       "<tr>\n",
       "  <th>arrondissement_10.0</th> <td> -266.2090</td> <td>   67.506</td> <td>   -3.943</td> <td> 0.000</td> <td> -398.765</td> <td> -133.653</td>\n",
       "</tr>\n",
       "<tr>\n",
       "  <th>surface</th>             <td>   32.8442</td> <td>    0.549</td> <td>   59.868</td> <td> 0.000</td> <td>   31.767</td> <td>   33.921</td>\n",
       "</tr>\n",
       "</table>\n",
       "<table class=\"simpletable\">\n",
       "<tr>\n",
       "  <th>Omnibus:</th>       <td>342.332</td> <th>  Durbin-Watson:     </th> <td>   1.924</td>\n",
       "</tr>\n",
       "<tr>\n",
       "  <th>Prob(Omnibus):</th> <td> 0.000</td>  <th>  Jarque-Bera (JB):  </th> <td>5037.096</td>\n",
       "</tr>\n",
       "<tr>\n",
       "  <th>Skew:</th>          <td> 1.963</td>  <th>  Prob(JB):          </th> <td>    0.00</td>\n",
       "</tr>\n",
       "<tr>\n",
       "  <th>Kurtosis:</th>      <td>15.984</td>  <th>  Cond. No.          </th> <td>8.84e+16</td>\n",
       "</tr>\n",
       "</table><br/><br/>Warnings:<br/>[1] Standard Errors assume that the covariance matrix of the errors is correctly specified.<br/>[2] The smallest eigenvalue is 4.24e-28. This might indicate that there are<br/>strong multicollinearity problems or that the design matrix is singular."
      ],
      "text/plain": [
       "<class 'statsmodels.iolib.summary.Summary'>\n",
       "\"\"\"\n",
       "                            OLS Regression Results                            \n",
       "==============================================================================\n",
       "Dep. Variable:                  price   R-squared:                       0.860\n",
       "Model:                            OLS   Adj. R-squared:                  0.859\n",
       "Method:                 Least Squares   F-statistic:                     800.5\n",
       "Date:                Sat, 03 Jul 2021   Prob (F-statistic):          3.24e-275\n",
       "Time:                        07:02:00   Log-Likelihood:                -5090.1\n",
       "No. Observations:                 657   AIC:                         1.019e+04\n",
       "Df Residuals:                     651   BIC:                         1.022e+04\n",
       "Df Model:                           5                                         \n",
       "Covariance Type:            nonrobust                                         \n",
       "=======================================================================================\n",
       "                          coef    std err          t      P>|t|      [0.025      0.975]\n",
       "---------------------------------------------------------------------------------------\n",
       "const                  10.6278     28.144      0.378      0.706     -44.635      65.891\n",
       "const                  10.6278     28.144      0.378      0.706     -44.635      65.891\n",
       "arrondissement_1.0    244.5897     68.606      3.565      0.000     109.875     379.305\n",
       "arrondissement_2.0     96.8574     73.392      1.320      0.187     -47.257     240.972\n",
       "arrondissement_4.0    179.0795     66.636      2.687      0.007      48.232     309.927\n",
       "arrondissement_10.0  -266.2090     67.506     -3.943      0.000    -398.765    -133.653\n",
       "surface                32.8442      0.549     59.868      0.000      31.767      33.921\n",
       "==============================================================================\n",
       "Omnibus:                      342.332   Durbin-Watson:                   1.924\n",
       "Prob(Omnibus):                  0.000   Jarque-Bera (JB):             5037.096\n",
       "Skew:                           1.963   Prob(JB):                         0.00\n",
       "Kurtosis:                      15.984   Cond. No.                     8.84e+16\n",
       "==============================================================================\n",
       "\n",
       "Warnings:\n",
       "[1] Standard Errors assume that the covariance matrix of the errors is correctly specified.\n",
       "[2] The smallest eigenvalue is 4.24e-28. This might indicate that there are\n",
       "strong multicollinearity problems or that the design matrix is singular.\n",
       "\"\"\""
      ]
     },
     "execution_count": 38,
     "metadata": {},
     "output_type": "execute_result"
    }
   ],
   "source": [
    "#Results with \"regressor_OLS\"\n",
    "regressor_OLS = sm.OLS(endog = y_train, exog = X_opt).fit()\n",
    "regressor_OLS.summary()"
   ]
  },
  {
   "cell_type": "markdown",
   "metadata": {},
   "source": [
    "We now see that the results of the three methods are identical in eliminating the cause of collinearity. However, to go further by seeking a more compact model, we must continue to eliminate variables that are not significant by examining their p-values. So, the variable to eliminate is the constant. For the rest, we study only the OLS regression method."
   ]
  },
  {
   "cell_type": "code",
   "execution_count": 39,
   "metadata": {},
   "outputs": [
    {
     "data": {
      "text/html": [
       "<table class=\"simpletable\">\n",
       "<caption>OLS Regression Results</caption>\n",
       "<tr>\n",
       "  <th>Dep. Variable:</th>          <td>price</td>      <th>  R-squared (uncentered):</th>      <td>   0.949</td> \n",
       "</tr>\n",
       "<tr>\n",
       "  <th>Model:</th>                   <td>OLS</td>       <th>  Adj. R-squared (uncentered):</th> <td>   0.948</td> \n",
       "</tr>\n",
       "<tr>\n",
       "  <th>Method:</th>             <td>Least Squares</td>  <th>  F-statistic:       </th>          <td>   2419.</td> \n",
       "</tr>\n",
       "<tr>\n",
       "  <th>Date:</th>             <td>Sat, 03 Jul 2021</td> <th>  Prob (F-statistic):</th>           <td>  0.00</td>  \n",
       "</tr>\n",
       "<tr>\n",
       "  <th>Time:</th>                 <td>07:02:47</td>     <th>  Log-Likelihood:    </th>          <td> -5090.2</td> \n",
       "</tr>\n",
       "<tr>\n",
       "  <th>No. Observations:</th>      <td>   657</td>      <th>  AIC:               </th>          <td>1.019e+04</td>\n",
       "</tr>\n",
       "<tr>\n",
       "  <th>Df Residuals:</th>          <td>   652</td>      <th>  BIC:               </th>          <td>1.021e+04</td>\n",
       "</tr>\n",
       "<tr>\n",
       "  <th>Df Model:</th>              <td>     5</td>      <th>                     </th>              <td> </td>    \n",
       "</tr>\n",
       "<tr>\n",
       "  <th>Covariance Type:</th>      <td>nonrobust</td>    <th>                     </th>              <td> </td>    \n",
       "</tr>\n",
       "</table>\n",
       "<table class=\"simpletable\">\n",
       "<tr>\n",
       "           <td></td>              <th>coef</th>     <th>std err</th>      <th>t</th>      <th>P>|t|</th>  <th>[0.025</th>    <th>0.975]</th>  \n",
       "</tr>\n",
       "<tr>\n",
       "  <th>arrondissement_1.0</th>  <td>  257.5807</td> <td>   59.318</td> <td>    4.342</td> <td> 0.000</td> <td>  141.103</td> <td>  374.058</td>\n",
       "</tr>\n",
       "<tr>\n",
       "  <th>arrondissement_2.0</th>  <td>  112.6946</td> <td>   60.190</td> <td>    1.872</td> <td> 0.062</td> <td>   -5.495</td> <td>  230.884</td>\n",
       "</tr>\n",
       "<tr>\n",
       "  <th>arrondissement_4.0</th>  <td>  193.4490</td> <td>   54.667</td> <td>    3.539</td> <td> 0.000</td> <td>   86.104</td> <td>  300.794</td>\n",
       "</tr>\n",
       "<tr>\n",
       "  <th>arrondissement_10.0</th> <td> -250.5037</td> <td>   53.138</td> <td>   -4.714</td> <td> 0.000</td> <td> -354.846</td> <td> -146.161</td>\n",
       "</tr>\n",
       "<tr>\n",
       "  <th>surface</th>             <td>   32.9569</td> <td>    0.460</td> <td>   71.629</td> <td> 0.000</td> <td>   32.053</td> <td>   33.860</td>\n",
       "</tr>\n",
       "</table>\n",
       "<table class=\"simpletable\">\n",
       "<tr>\n",
       "  <th>Omnibus:</th>       <td>334.023</td> <th>  Durbin-Watson:     </th> <td>   1.921</td>\n",
       "</tr>\n",
       "<tr>\n",
       "  <th>Prob(Omnibus):</th> <td> 0.000</td>  <th>  Jarque-Bera (JB):  </th> <td>4804.201</td>\n",
       "</tr>\n",
       "<tr>\n",
       "  <th>Skew:</th>          <td> 1.906</td>  <th>  Prob(JB):          </th> <td>    0.00</td>\n",
       "</tr>\n",
       "<tr>\n",
       "  <th>Kurtosis:</th>      <td>15.687</td>  <th>  Cond. No.          </th> <td>    238.</td>\n",
       "</tr>\n",
       "</table><br/><br/>Warnings:<br/>[1] Standard Errors assume that the covariance matrix of the errors is correctly specified."
      ],
      "text/plain": [
       "<class 'statsmodels.iolib.summary.Summary'>\n",
       "\"\"\"\n",
       "                                 OLS Regression Results                                \n",
       "=======================================================================================\n",
       "Dep. Variable:                  price   R-squared (uncentered):                   0.949\n",
       "Model:                            OLS   Adj. R-squared (uncentered):              0.948\n",
       "Method:                 Least Squares   F-statistic:                              2419.\n",
       "Date:                Sat, 03 Jul 2021   Prob (F-statistic):                        0.00\n",
       "Time:                        07:02:47   Log-Likelihood:                         -5090.2\n",
       "No. Observations:                 657   AIC:                                  1.019e+04\n",
       "Df Residuals:                     652   BIC:                                  1.021e+04\n",
       "Df Model:                           5                                                  \n",
       "Covariance Type:            nonrobust                                                  \n",
       "=======================================================================================\n",
       "                          coef    std err          t      P>|t|      [0.025      0.975]\n",
       "---------------------------------------------------------------------------------------\n",
       "arrondissement_1.0    257.5807     59.318      4.342      0.000     141.103     374.058\n",
       "arrondissement_2.0    112.6946     60.190      1.872      0.062      -5.495     230.884\n",
       "arrondissement_4.0    193.4490     54.667      3.539      0.000      86.104     300.794\n",
       "arrondissement_10.0  -250.5037     53.138     -4.714      0.000    -354.846    -146.161\n",
       "surface                32.9569      0.460     71.629      0.000      32.053      33.860\n",
       "==============================================================================\n",
       "Omnibus:                      334.023   Durbin-Watson:                   1.921\n",
       "Prob(Omnibus):                  0.000   Jarque-Bera (JB):             4804.201\n",
       "Skew:                           1.906   Prob(JB):                         0.00\n",
       "Kurtosis:                      15.687   Cond. No.                         238.\n",
       "==============================================================================\n",
       "\n",
       "Warnings:\n",
       "[1] Standard Errors assume that the covariance matrix of the errors is correctly specified.\n",
       "\"\"\""
      ]
     },
     "execution_count": 39,
     "metadata": {},
     "output_type": "execute_result"
    }
   ],
   "source": [
    "# Elimination of the constant\n",
    "X_opt = X_train[['arrondissement_1.0', 'arrondissement_2.0', 'arrondissement_4.0',\n",
    "                 'arrondissement_10.0', 'surface']]\n",
    "regressor_OLS = sm.OLS(endog = y_train, exog = X_opt).fit()\n",
    "regressor_OLS.summary()"
   ]
  },
  {
   "cell_type": "markdown",
   "metadata": {},
   "source": [
    "If we continue the elimination procedure, we should eliminate the variable \"arrondissement_2.0\". However, this one can be significant. For this, we must consider when eliminating variables the parameters \"R-squared\" and \"Adj. R-squared\". If in each variable elimination they increase, this implies that the model is improved by eliminating the variable in question. Otherwise, it is better to keep it and stopping the variable elimination procedure.\n",
    "\n",
    "Let's see what it gives the elimination of \"arrondissement_2.0\"."
   ]
  },
  {
   "cell_type": "code",
   "execution_count": 40,
   "metadata": {},
   "outputs": [
    {
     "data": {
      "text/html": [
       "<table class=\"simpletable\">\n",
       "<caption>OLS Regression Results</caption>\n",
       "<tr>\n",
       "  <th>Dep. Variable:</th>          <td>price</td>      <th>  R-squared (uncentered):</th>      <td>   0.949</td> \n",
       "</tr>\n",
       "<tr>\n",
       "  <th>Model:</th>                   <td>OLS</td>       <th>  Adj. R-squared (uncentered):</th> <td>   0.948</td> \n",
       "</tr>\n",
       "<tr>\n",
       "  <th>Method:</th>             <td>Least Squares</td>  <th>  F-statistic:       </th>          <td>   3011.</td> \n",
       "</tr>\n",
       "<tr>\n",
       "  <th>Date:</th>             <td>Sat, 03 Jul 2021</td> <th>  Prob (F-statistic):</th>           <td>  0.00</td>  \n",
       "</tr>\n",
       "<tr>\n",
       "  <th>Time:</th>                 <td>07:03:28</td>     <th>  Log-Likelihood:    </th>          <td> -5091.9</td> \n",
       "</tr>\n",
       "<tr>\n",
       "  <th>No. Observations:</th>      <td>   657</td>      <th>  AIC:               </th>          <td>1.019e+04</td>\n",
       "</tr>\n",
       "<tr>\n",
       "  <th>Df Residuals:</th>          <td>   653</td>      <th>  BIC:               </th>          <td>1.021e+04</td>\n",
       "</tr>\n",
       "<tr>\n",
       "  <th>Df Model:</th>              <td>     4</td>      <th>                     </th>              <td> </td>    \n",
       "</tr>\n",
       "<tr>\n",
       "  <th>Covariance Type:</th>      <td>nonrobust</td>    <th>                     </th>              <td> </td>    \n",
       "</tr>\n",
       "</table>\n",
       "<table class=\"simpletable\">\n",
       "<tr>\n",
       "           <td></td>              <th>coef</th>     <th>std err</th>      <th>t</th>      <th>P>|t|</th>  <th>[0.025</th>    <th>0.975]</th>  \n",
       "</tr>\n",
       "<tr>\n",
       "  <th>arrondissement_1.0</th>  <td>  234.3441</td> <td>   58.117</td> <td>    4.032</td> <td> 0.000</td> <td>  120.226</td> <td>  348.462</td>\n",
       "</tr>\n",
       "<tr>\n",
       "  <th>arrondissement_4.0</th>  <td>  174.0883</td> <td>   53.783</td> <td>    3.237</td> <td> 0.001</td> <td>   68.480</td> <td>  279.697</td>\n",
       "</tr>\n",
       "<tr>\n",
       "  <th>arrondissement_10.0</th> <td> -266.1085</td> <td>   52.581</td> <td>   -5.061</td> <td> 0.000</td> <td> -369.357</td> <td> -162.860</td>\n",
       "</tr>\n",
       "<tr>\n",
       "  <th>surface</th>             <td>   33.2736</td> <td>    0.429</td> <td>   77.616</td> <td> 0.000</td> <td>   32.432</td> <td>   34.115</td>\n",
       "</tr>\n",
       "</table>\n",
       "<table class=\"simpletable\">\n",
       "<tr>\n",
       "  <th>Omnibus:</th>       <td>306.362</td> <th>  Durbin-Watson:     </th> <td>   1.929</td>\n",
       "</tr>\n",
       "<tr>\n",
       "  <th>Prob(Omnibus):</th> <td> 0.000</td>  <th>  Jarque-Bera (JB):  </th> <td>4074.289</td>\n",
       "</tr>\n",
       "<tr>\n",
       "  <th>Skew:</th>          <td> 1.722</td>  <th>  Prob(JB):          </th> <td>    0.00</td>\n",
       "</tr>\n",
       "<tr>\n",
       "  <th>Kurtosis:</th>      <td>14.704</td>  <th>  Cond. No.          </th> <td>    215.</td>\n",
       "</tr>\n",
       "</table><br/><br/>Warnings:<br/>[1] Standard Errors assume that the covariance matrix of the errors is correctly specified."
      ],
      "text/plain": [
       "<class 'statsmodels.iolib.summary.Summary'>\n",
       "\"\"\"\n",
       "                                 OLS Regression Results                                \n",
       "=======================================================================================\n",
       "Dep. Variable:                  price   R-squared (uncentered):                   0.949\n",
       "Model:                            OLS   Adj. R-squared (uncentered):              0.948\n",
       "Method:                 Least Squares   F-statistic:                              3011.\n",
       "Date:                Sat, 03 Jul 2021   Prob (F-statistic):                        0.00\n",
       "Time:                        07:03:28   Log-Likelihood:                         -5091.9\n",
       "No. Observations:                 657   AIC:                                  1.019e+04\n",
       "Df Residuals:                     653   BIC:                                  1.021e+04\n",
       "Df Model:                           4                                                  \n",
       "Covariance Type:            nonrobust                                                  \n",
       "=======================================================================================\n",
       "                          coef    std err          t      P>|t|      [0.025      0.975]\n",
       "---------------------------------------------------------------------------------------\n",
       "arrondissement_1.0    234.3441     58.117      4.032      0.000     120.226     348.462\n",
       "arrondissement_4.0    174.0883     53.783      3.237      0.001      68.480     279.697\n",
       "arrondissement_10.0  -266.1085     52.581     -5.061      0.000    -369.357    -162.860\n",
       "surface                33.2736      0.429     77.616      0.000      32.432      34.115\n",
       "==============================================================================\n",
       "Omnibus:                      306.362   Durbin-Watson:                   1.929\n",
       "Prob(Omnibus):                  0.000   Jarque-Bera (JB):             4074.289\n",
       "Skew:                           1.722   Prob(JB):                         0.00\n",
       "Kurtosis:                      14.704   Cond. No.                         215.\n",
       "==============================================================================\n",
       "\n",
       "Warnings:\n",
       "[1] Standard Errors assume that the covariance matrix of the errors is correctly specified.\n",
       "\"\"\""
      ]
     },
     "execution_count": 40,
     "metadata": {},
     "output_type": "execute_result"
    }
   ],
   "source": [
    "# Elimination of \"arrondissement_2.0\"\n",
    "X_opt = X_train[['arrondissement_1.0', 'arrondissement_4.0', \n",
    "                 'arrondissement_10.0', 'surface']]\n",
    "regressor_OLS = sm.OLS(endog = y_train, exog = X_opt).fit()\n",
    "regressor_OLS.summary()"
   ]
  },
  {
   "cell_type": "markdown",
   "metadata": {},
   "source": [
    "It is noted that the values of the parameters \"R-squared\" and \"Adj.r-squared\" have not changed by eliminating \"arrondissement_2.0\". The model has consecontly kept its optimum. Since such a variable has a slightly higher p-value still at 5% and its elimination has not degraded the model, we will eliminate it by keeping the last model which is obtained using only \"arrondissement_1.0\", \"arrondissement_4.0\", \"arrondissement_10.0\" and \"surface\"."
   ]
  },
  {
   "cell_type": "markdown",
   "metadata": {},
   "source": [
    "## Evaluation\n",
    "Now, consider the coefficients corresponding to these variables in order to estimate the rent in Paris. First of all, we note that the price of the rent of a square meter is estimated at 33.27 euros independently of the boroughs: \"arrondissement_2.0\" and \"arrondissement_3.0\". These last two variables have no infulence on the rent price. For example, a studio of 27 m2 will be rented at 27x33.2736 = 900 euros in these two districts.\n",
    "\n",
    "Indeed, the rent will be more expensive in boroughs \"arrondissement_1.0\" then \"arrondissement_4.0\". The same area of the studio will be rented at 900+234.34 = 1134 euros and 900+174 = 1074 euros in \"arrondissement_1.0\" and \"arrondissement_4.0\" respectively. These ones are certainly the chic districts in Paris.\n",
    "\n",
    "On the other hand, the district \"arrondissement_10.0\" suffers apparently from a bad reputation. The rent in this borough is penalized 266.10 euros less. That is to say, the same area of such a studio will be rented at 900-266.10 = 634 euros. Such a district may be a very popular borough."
   ]
  }
 ],
 "metadata": {
  "kernelspec": {
   "display_name": "Python 3",
   "language": "python",
   "name": "python3"
  },
  "language_info": {
   "codemirror_mode": {
    "name": "ipython",
    "version": 3
   },
   "file_extension": ".py",
   "mimetype": "text/x-python",
   "name": "python",
   "nbconvert_exporter": "python",
   "pygments_lexer": "ipython3",
   "version": "3.7.6"
  }
 },
 "nbformat": 4,
 "nbformat_minor": 4
}
